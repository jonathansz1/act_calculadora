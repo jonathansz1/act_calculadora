{
 "cells": [
  {
   "cell_type": "code",
   "execution_count": 3,
   "metadata": {},
   "outputs": [],
   "source": [
    "#Actividad calculadora Crear una calculadora con al menos 4 operaciones básicas"
   ]
  },
  {
   "cell_type": "code",
   "execution_count": 4,
   "metadata": {},
   "outputs": [],
   "source": [
    "class calculadora:\n",
    "    '''calculadora de 4 operaciones: suma, resta, división y mutiplicación'''\n",
    "    def suma(self,a,b):\n",
    "        return a+b\n",
    "    def resta(self,a,b):\n",
    "        return a-b\n",
    "    def division(self,a,b):\n",
    "        if b==0:\n",
    "            print(\"No se puede dividir entre cero\")\n",
    "        else:\n",
    "            return a/b\n",
    "    def mutiplicacion(self,a,b):\n",
    "        return a*b\n"
   ]
  },
  {
   "cell_type": "code",
   "execution_count": 8,
   "metadata": {},
   "outputs": [
    {
     "data": {
      "text/plain": [
       "14.5"
      ]
     },
     "execution_count": 8,
     "metadata": {},
     "output_type": "execute_result"
    }
   ],
   "source": [
    "calculadora().division(58,4)"
   ]
  },
  {
   "cell_type": "code",
   "execution_count": 9,
   "metadata": {},
   "outputs": [
    {
     "data": {
      "text/plain": [
       "50"
      ]
     },
     "execution_count": 9,
     "metadata": {},
     "output_type": "execute_result"
    }
   ],
   "source": [
    "calculadora().suma(25,25)"
   ]
  },
  {
   "cell_type": "code",
   "execution_count": null,
   "metadata": {},
   "outputs": [],
   "source": []
  }
 ],
 "metadata": {
  "kernelspec": {
   "display_name": "Python 3.6.13 ('python_fundamentals')",
   "language": "python",
   "name": "python3"
  },
  "language_info": {
   "codemirror_mode": {
    "name": "ipython",
    "version": 3
   },
   "file_extension": ".py",
   "mimetype": "text/x-python",
   "name": "python",
   "nbconvert_exporter": "python",
   "pygments_lexer": "ipython3",
   "version": "3.6.13"
  },
  "orig_nbformat": 4,
  "vscode": {
   "interpreter": {
    "hash": "602e81f1fc20b9d83015157eccc25d9328edb1b85a6e3eaaf2e3d011ebad2a9f"
   }
  }
 },
 "nbformat": 4,
 "nbformat_minor": 2
}
